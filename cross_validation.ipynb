{
  "nbformat": 4,
  "nbformat_minor": 0,
  "metadata": {
    "language_info": {
      "codemirror_mode": {
        "name": "ipython",
        "version": 3
      },
      "file_extension": ".py",
      "mimetype": "text/x-python",
      "name": "python",
      "nbconvert_exporter": "python",
      "pygments_lexer": "ipython3",
      "version": "3.8.2-final"
    },
    "orig_nbformat": 2,
    "kernelspec": {
      "name": "python38264bitfff9620fff7741ad8ce39f7815811a8b",
      "display_name": "Python 3.8.2 64-bit"
    },
    "colab": {
      "name": "cross validation.ipynb",
      "provenance": [],
      "include_colab_link": true
    }
  },
  "cells": [
    {
      "cell_type": "markdown",
      "metadata": {
        "id": "view-in-github",
        "colab_type": "text"
      },
      "source": [
        "<a href=\"https://colab.research.google.com/github/magotheinnocent/MachineLearningTasksGroup5/blob/master/cross_validation.ipynb\" target=\"_parent\"><img src=\"https://colab.research.google.com/assets/colab-badge.svg\" alt=\"Open In Colab\"/></a>"
      ]
    },
    {
      "cell_type": "code",
      "metadata": {
        "id": "UCLd5nB7IMNx",
        "colab_type": "code",
        "colab": {}
      },
      "source": [
        "import numpy as np\n",
        "import pandas as pd\n",
        "import matplotlib.pyplot as pyplot\n",
        "import seaborn as sb\n",
        "\n",
        "from sklearn.datasets import fetch_california_housing\n",
        "from sklearn.model_selection import KFold\n",
        "from sklearn.model_selection import train_test_split"
      ],
      "execution_count": null,
      "outputs": []
    },
    {
      "cell_type": "markdown",
      "metadata": {
        "id": "2f7vuW83cv55",
        "colab_type": "text"
      },
      "source": [
        "\n",
        "Importing dependencies"
      ]
    },
    {
      "cell_type": "code",
      "metadata": {
        "id": "mcMHfZzqIMN6",
        "colab_type": "code",
        "colab": {}
      },
      "source": [
        "calif = fetch_california_housing()\n"
      ],
      "execution_count": null,
      "outputs": []
    },
    {
      "cell_type": "markdown",
      "metadata": {
        "id": "yWkvhayVcycE",
        "colab_type": "text"
      },
      "source": [
        "\n",
        "Importing the dataset"
      ]
    },
    {
      "cell_type": "code",
      "metadata": {
        "id": "Ae1jJNLqIMOA",
        "colab_type": "code",
        "colab": {
          "base_uri": "https://localhost:8080/",
          "height": 34
        },
        "outputId": "484947d7-b699-41eb-827b-4a4f725414aa"
      },
      "source": [
        "kf= KFold(n_splits = 4)\n",
        "kf"
      ],
      "execution_count": null,
      "outputs": [
        {
          "output_type": "execute_result",
          "data": {
            "text/plain": [
              "KFold(n_splits=4, random_state=None, shuffle=False)"
            ]
          },
          "metadata": {
            "tags": []
          },
          "execution_count": 8
        }
      ]
    },
    {
      "cell_type": "code",
      "metadata": {
        "tags": [],
        "id": "LmkcO_dTIMOH",
        "colab_type": "code",
        "colab": {
          "base_uri": "https://localhost:8080/",
          "height": 85
        },
        "outputId": "f109e63b-95e2-4dbd-8d41-120478884d54"
      },
      "source": [
        "for train_index, test_index in kf.split(calif):\n",
        "    print (train_index, test_index)"
      ],
      "execution_count": null,
      "outputs": [
        {
          "output_type": "stream",
          "text": [
            "[1 2 3] [0]\n",
            "[0 2 3] [1]\n",
            "[0 1 3] [2]\n",
            "[0 1 2] [3]\n"
          ],
          "name": "stdout"
        }
      ]
    },
    {
      "cell_type": "markdown",
      "metadata": {
        "id": "otSF6unBc1Xu",
        "colab_type": "text"
      },
      "source": [
        "A higher value of K means less accuraccy in the testing set depending on data size. For instance, using a K of 10 in data with only 10 records means only 1 will be used for testing, hence not a good determinant of accuraccy but if there are 10,000 records and 1000 are used for testing, it might be an accurate determinant. The default recommended value of K is 5 to give 20% of the reecords for testing the model's accuracy"
      ]
    },
    {
      "cell_type": "code",
      "metadata": {
        "id": "4n31ileeIMON",
        "colab_type": "code",
        "colab": {}
      },
      "source": [
        "## 4 split"
      ],
      "execution_count": null,
      "outputs": []
    }
  ]
}